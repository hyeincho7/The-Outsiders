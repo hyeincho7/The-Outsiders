{
  "nbformat": 4,
  "nbformat_minor": 0,
  "metadata": {
    "colab": {
      "provenance": []
    },
    "kernelspec": {
      "name": "python3",
      "display_name": "Python 3"
    },
    "language_info": {
      "name": "python"
    }
  },
  "cells": [
    {
      "cell_type": "code",
      "execution_count": null,
      "metadata": {
        "colab": {
          "base_uri": "https://localhost:8080/",
          "height": 243
        },
        "id": "ALT0wz2VBr7W",
        "outputId": "8209149d-5bf1-4674-a73c-279f671df7fe",
        "cellView": "form"
      },
      "outputs": [
        {
          "output_type": "stream",
          "name": "stdout",
          "text": [
            "Your BMI : 0.0 Your BFP : -16.200000000000003\n"
          ]
        },
        {
          "output_type": "error",
          "ename": "ValueError",
          "evalue": "This is sample.",
          "traceback": [
            "\u001b[0;31m---------------------------------------------------------------------------\u001b[0m",
            "\u001b[0;31mValueError\u001b[0m                                Traceback (most recent call last)",
            "\u001b[0;32m<ipython-input-17-10486c0c7819>\u001b[0m in \u001b[0;36m<cell line: 57>\u001b[0;34m()\u001b[0m\n\u001b[1;32m     56\u001b[0m \u001b[0my1_pred\u001b[0m \u001b[0;34m=\u001b[0m \u001b[0mnp\u001b[0m\u001b[0;34m.\u001b[0m\u001b[0mround\u001b[0m\u001b[0;34m(\u001b[0m\u001b[0my1\u001b[0m\u001b[0;34m)\u001b[0m\u001b[0;34m\u001b[0m\u001b[0;34m\u001b[0m\u001b[0m\n\u001b[1;32m     57\u001b[0m \u001b[0;32mif\u001b[0m \u001b[0mWeight_kg\u001b[0m\u001b[0;34m*\u001b[0m\u001b[0mBFP\u001b[0m\u001b[0;34m*\u001b[0m\u001b[0muser_bfpcase\u001b[0m\u001b[0;34m*\u001b[0m\u001b[0mSleep_Duration_h\u001b[0m\u001b[0;34m*\u001b[0m\u001b[0mQuality_of_Sleep\u001b[0m\u001b[0;34m*\u001b[0m\u001b[0mHeart_Rate\u001b[0m \u001b[0;34m==\u001b[0m\u001b[0;36m0\u001b[0m \u001b[0;34m:\u001b[0m\u001b[0;34m\u001b[0m\u001b[0;34m\u001b[0m\u001b[0m\n\u001b[0;32m---> 58\u001b[0;31m     \u001b[0;32mraise\u001b[0m \u001b[0mValueError\u001b[0m\u001b[0;34m(\u001b[0m\u001b[0;34m'This is sample.'\u001b[0m\u001b[0;34m)\u001b[0m\u001b[0;34m\u001b[0m\u001b[0;34m\u001b[0m\u001b[0m\n\u001b[0m\u001b[1;32m     59\u001b[0m \u001b[0;32melif\u001b[0m \u001b[0my1_pred\u001b[0m \u001b[0;34m<=\u001b[0m \u001b[0;36m0\u001b[0m \u001b[0;34m:\u001b[0m\u001b[0;34m\u001b[0m\u001b[0;34m\u001b[0m\u001b[0m\n\u001b[1;32m     60\u001b[0m     \u001b[0mprint\u001b[0m\u001b[0;34m(\u001b[0m\u001b[0;34m\"Really? You look happy.\"\u001b[0m\u001b[0;34m)\u001b[0m\u001b[0;34m\u001b[0m\u001b[0;34m\u001b[0m\u001b[0m\n",
            "\u001b[0;31mValueError\u001b[0m: This is sample."
          ]
        }
      ],
      "source": [
        "import numpy as np\n",
        "import pandas as pd\n",
        "# @title Enter your information and Play this cell\n",
        "\n",
        "Age = 0  # @param {\"type\":\"number\"}\n",
        "Gender = \"Sample\" # @param [\"Male\",\"Female\"] {\"allow-input\":true}\n",
        "if Gender == 'Female' :\n",
        "    Gender = 1\n",
        "elif Gender == 'Male' :\n",
        "    Gender = -1\n",
        "elif Gender == 'Sample' :\n",
        "    Gender = 0\n",
        "else:\n",
        "    raise ValueError(\"Who are you?  Please enter the correct gender.\")\n",
        "\n",
        "Weight_kg = 0  # @param {\"type\":\"number\"}\n",
        "Height_cm = 0.1  # @param {\"type\":\"number\"}\n",
        "Height_m = Height_cm / 100\n",
        "# BMI 계산\n",
        "BMI_kg_m2 = Weight_kg / (Height_m ** 2)\n",
        "\n",
        "if Gender == 1:\n",
        "    user_bfp = (1.2 * BMI_kg_m2) + (0.23 * Age) - 5.4\n",
        "    if user_bfp < 20:\n",
        "        user_bfpcase = -2\n",
        "    elif 20 <= user_bfp < 24:\n",
        "        user_bfpcase = -1\n",
        "    elif 24 <= user_bfp < 31:\n",
        "        user_bfpcase = 1\n",
        "    else:\n",
        "        user_bfpcase = 2\n",
        "else:\n",
        "    user_bfp = (1.2 * BMI_kg_m2) + (0.23 * Age) - (10.8 * 1) - 5.4\n",
        "    if user_bfp < 13:\n",
        "        user_bfpcase = -2\n",
        "    elif 13 <= user_bfp < 17:\n",
        "        user_bfpcase = -1\n",
        "    elif 17 <= user_bfp < 24:\n",
        "        user_bfpcase = 1\n",
        "    else:\n",
        "        user_bfpcase = 2\n",
        "print('Your BMI :',BMI_kg_m2,'Your BFP :',user_bfp)\n",
        "\n",
        "\n",
        "Sleep_Duration_h = 0  # @param {\"type\":\"number\"}\n",
        "Quality_of_Sleep = 5 # @param {\"type\":\"slider\",\"min\":1,\"max\":10,\"step\":1}\n",
        "Physical_Activity_Level = 5 # @param {\"type\":\"slider\",\"min\":1,\"max\":10,\"step\":1}\n",
        "Heart_Rate = 0  # @param {\"type\":\"number\"}\n",
        "Daily_Steps = 0  # @param {\"type\":\"number\"}\n",
        "\n",
        "\n",
        "\n",
        "##Predict Stress Level\n",
        "y1 = (-8.84761008e-03 * Age) + (-2.50259163e-01 * Sleep_Duration_h) + (-1.15675539e+00 * Quality_of_Sleep) + \\\n",
        "    (-3.18170043e-03 * Physical_Activity_Level) + (2.68181688e-04 * Daily_Steps) + 14.36834820486652\n",
        "y1_pred = np.round(y1)\n",
        "if Weight_kg*user_bfp*user_bfpcase*Sleep_Duration_h*Quality_of_Sleep*Heart_Rate ==0 :\n",
        "    raise ValueError('This is sample.')\n",
        "elif y1_pred <= 0 :\n",
        "    print(\"Really? You look happy.\")\n",
        "elif y1_pred >10 :\n",
        "    print('\\033[1;31mYour stress level is very high. It seems that proper management is needed. Try managing your stress effectively through the exercise plan we recommend.\\033[0m')\n",
        "else :\n",
        "    print('Your Stress Level is', f'\\033[1;37;41m{int(y1_pred)}\\033[0m')\n",
        "\n",
        "\n",
        "\n",
        "##Exercise Recommendation Plan\n",
        "\n",
        "\n",
        "y = (0.01767026 * Weight_kg) + (0.06949762 * (Height_cm / 100)) + (0.04306244 * BMI_kg_m2) + \\\n",
        "    (0.10253462 * user_bfp) + (0.08956979 * user_bfpcase) + (-0.30164878 * Gender) + (-0.02515244 * Age) + 0.0666\n",
        "y_pred = y/1000000\n",
        "y_pred = np.round(y)  # 반올림\n",
        "#print(\"Rounded:\", y_pred)\n",
        "\n",
        "\n",
        "\n",
        "\n",
        "if y_pred <= 0 or  y_pred >7 :\n",
        "    print(\"Start with walking.\")\n",
        "elif y_pred >=1 and y_pred <=7 :\n",
        "        print(\"Recommended Exercise Plan :\",\n",
        "              f'\\033[1;30;43mThe {int(y_pred)}th Plan\\033[0m')\n",
        "\n",
        "\n",
        "\n"
      ]
    }
  ]
}